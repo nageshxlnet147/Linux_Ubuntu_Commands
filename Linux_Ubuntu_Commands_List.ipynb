{
 "cells": [
  {
   "cell_type": "markdown",
   "metadata": {},
   "source": [
    "# Must & Should Learn Below The Commands"
   ]
  },
  {
   "cell_type": "markdown",
   "metadata": {},
   "source": [
    "# :::Read Me Content:::\n",
    "\n",
    "/root : 1. '/' means root directory. \n",
    "        2.  'root' means root folder inside the root directory.\n",
    "\n",
    "'#' Means : Super user\n",
    "$ Means : Root user\n",
    "~ Means : Parent directory\n",
    "rw Means : Read Write \n",
    "ro Means : Read only\n",
    "x Means : Executable\n",
    "# --------------------------------------------------------------------------"
   ]
  },
  {
   "cell_type": "markdown",
   "metadata": {},
   "source": [
    "0. ls\n",
    "\n",
    "List directory contents.\n",
    "\n",
    "ls -alh \n",
    "\n",
    "Long format list with size displayed using human-readable units.\n",
    "\n",
    "h Means : human readable formate.\n",
    "\n",
    "ls -alt\n",
    "\n",
    "t Means : time stamp and comes with updated modified times\n",
    "\n",
    "ls -altr\n",
    "\n",
    "r Means : reverse the time stamp\n",
    "# --------------------------------------------------------------------------"
   ]
  },
  {
   "cell_type": "markdown",
   "metadata": {},
   "source": [
    "1. touch path/to/file1 path/to/file2 ...\n",
    "\n",
    "Create specific files\n",
    "# --------------------------------------------------------------------------"
   ]
  },
  {
   "cell_type": "markdown",
   "metadata": {},
   "source": [
    "2. cat path/to/file\n",
    "\n",
    "Print the contents of a file to stdout\n",
    "\n",
    "cat path1 > path2\n",
    "\n",
    "copy the path1 in path2 \n",
    "\n",
    "'>>' Means : adding more content in the file like append operator\n",
    "# --------------------------------------------------------------------------"
   ]
  },
  {
   "cell_type": "markdown",
   "metadata": {},
   "source": [
    "3. mkdir path/to/directory1 path/to/directory2 ...\n",
    "\n",
    "Create specific directories\n",
    "# --------------------------------------------------------------------------"
   ]
  },
  {
   "cell_type": "markdown",
   "metadata": {},
   "source": [
    "4. cd path/to/directory\n",
    "\n",
    "Go to the specified directory\n",
    "# --------------------------------------------------------------------------"
   ]
  },
  {
   "cell_type": "markdown",
   "metadata": {},
   "source": [
    "5. rm path/to/file1 path/to/file2 ...\n",
    "\n",
    "Remove specific files\n",
    "# --------------------------------------------------------------------------"
   ]
  },
  {
   "cell_type": "markdown",
   "metadata": {},
   "source": [
    "6. pwd\n",
    "\n",
    "Print the current directory\n",
    "# --------------------------------------------------------------------------"
   ]
  },
  {
   "cell_type": "markdown",
   "metadata": {},
   "source": [
    "7. cp path/to/source_file.ext path/to/target_file.ext\n",
    "\n",
    "Copy files and directories.\n",
    "\n",
    "cp -r directory \n",
    "\n",
    "-r Means : Recursively copy the directories along with the sub directories.\n",
    "# --------------------------------------------------------------------------"
   ]
  },
  {
   "cell_type": "markdown",
   "metadata": {},
   "source": [
    "8. tree directories\n",
    "\n",
    "Show the contents of the current directory as a tree\n",
    "# --------------------------------------------------------------------------"
   ]
  },
  {
   "cell_type": "markdown",
   "metadata": {},
   "source": [
    "9. mv\n",
    "\n",
    "Move or rename files and directories nad its also renamed.\n",
    "# --------------------------------------------------------------------------"
   ]
  },
  {
   "cell_type": "markdown",
   "metadata": {},
   "source": [
    "# Text Processing Commands\n",
    "\n",
    "Text Processing Commands are a set of built-in commands that are used to manipulate text. These commands allow users to quickly and efficiently search, modify, and extract data from text files.\n",
    "\n",
    "1. less path\n",
    "\n",
    "Open a file with overall content by using up & down arrows or (g: end & b: up & <space>: down)\n",
    "\n",
    "2. head path\n",
    "\n",
    "Its capture the top 10 lines\n",
    "\n",
    "head -3 path\n",
    "\n",
    "Its capture the top 3 lines\n",
    "\n",
    "3. tail path\n",
    "\n",
    "Its capture the last 10 lines\n",
    "\n",
    "tail -2 path\n",
    "\n",
    "Its capture the last 2 lines\n",
    "\n",
    "4. grep \"search_pattern\" path/to/file\n",
    "\n",
    "globally search for a regular expression and print it out. Find patterns in files using regular expressions. grep is also case-sensitive as well.\n",
    "\n",
    "grep -i search_pattern\" path/to/file\n",
    "\n",
    "-i Means : its ignore the case-sensitive\n",
    "\n",
    "grep -n search_pattern\" path/to/file\n",
    "\n",
    "-n Means : number\n",
    "\n",
    "grep -nv search_pattern\" path/to/file\n",
    "\n",
    "-nv Means : Except those number lines remaining will be shown.\n",
    "\n",
    "5. cut -d 'character' -f range of each line path {cut -d ':' -f 1, 3 path}\n",
    "\n",
    "Cut out fields from stdin or files.\n",
    "\n",
    "-d Means : delimiter \n",
    "-f Means : fields\n",
    "\n",
    "6. wc path\n",
    "\n",
    "Count lines, words, and bytes\n",
    "\n",
    "wc Means : Word Count\n",
    "c Means : number of character\n",
    "-l Means : number of lines\n",
    "-w Means : number of word\n",
    "\n",
    "7. sort path/to/file\n",
    "\n",
    "Sort lines of text files and its sort alphabetical sort not numerical.\n",
    "\n",
    "-n Means : numerical \n",
    "-nr Means : numerical reverse\n",
    "# --------------------------------------------------------------------------"
   ]
  },
  {
   "cell_type": "markdown",
   "metadata": {},
   "source": [
    "# Redirection Commands\n",
    "\n",
    "Its allow users to control where the input and output of a command goes. We can store the output wherever its required.\n",
    "\n",
    "1. ls -al > path\n",
    "\n",
    "> Means : directs the output of a command to a given file.\n",
    "< Means : directs the contents of a given file to a command.\n",
    "\n",
    "2. date;cal\n",
    "\n",
    "; Means : we can run multiple commands at teh same time by using this.\n",
    "\n",
    "3. (date;ls) > path\n",
    "\n",
    "Its will also run the multiple commands\n",
    "\n",
    "4. When we get an error message while run the any command so that error message wil be store by using '2>'.\n",
    "\n",
    "2> Means : directs error messages from a command to a given file.\n",
    "sample command : tldr ls -al 2> path\n",
    "\n",
    "&> Means : directs standard output and error to a given file.\n",
    "# --------------------------------------------------------------------------"
   ]
  },
  {
   "cell_type": "markdown",
   "metadata": {},
   "source": [
    "# Piping Commands\n",
    "\n",
    "Piping is the act of directing the output of one Linux command as an input to another command.\n",
    "\n",
    "1. ls | wl -l\n",
    "\n",
    "| Means : Pipeline of the output act as input of other command\n",
    "# --------------------------------------------------------------------------"
   ]
  },
  {
   "cell_type": "markdown",
   "metadata": {},
   "source": [
    "# Permissions Commands \n",
    "\n",
    "# '- --- --- ---' : This are the formate of permissions. \n",
    "# First one '-' is an File type ( 1.'-' : indicates regular file. 2. d : indicates directory). \n",
    "# First three '---' are Read, Write and Execute permissions for the file owner. \n",
    "# Second three '---' are Read, Write and Execute permissions for the group owner of the file. \n",
    "# Last three '---' are Read, Write and Execute permissions for all other users.\n",
    "\n",
    "# IT CAN BE DIVIDED INTO THE THREE CATAGORIES OF PERMISSIONS:\n",
    "\n",
    "u : Owner or user\n",
    "g : Group\n",
    "o : Others\n",
    "\n",
    "# IT CAN BE DIVIDED INTO THE THREE TYPES OF PERMISSIONS:\n",
    "\n",
    "r Means : Read\n",
    "w Means : Write\n",
    "x Means : Execute\n",
    "Single '-' Means : File type\n",
    "\n",
    "# IT CAN BE DIVIDED INTO THE TWO FORMATE OF PERMISSIONS::\n",
    "\n",
    "1. Binary Formate or Numerical Notation: 2^2 2^1 2^0 - 4 2 1 = 7 Total/Each\n",
    "\n",
    "w : 2^2 = 4 = 100\n",
    "r : 2^1 = 2 = 010\n",
    "e : 2^0 = 2 = 001\n",
    "\n",
    "1.1 chmod 777 path\n",
    "\n",
    "Change the access permissions of a file or directory by using Numerical Notation.\n",
    "\n",
    "2. Alphabetical Formate:\n",
    "\n",
    "'+' : Add the permissions\n",
    "'-' : Remove permissions\n",
    "'=' : Replace permissions\n",
    "\n",
    "2.2 chmod u+x path or chmod u+x,g-r+w path\n",
    "\n",
    "Give the [u]ser who owns a file the right to e[x]ecute it.\n",
    "# --------------------------------------------------------------------------"
   ]
  },
  {
   "cell_type": "markdown",
   "metadata": {},
   "source": []
  },
  {
   "cell_type": "markdown",
   "metadata": {},
   "source": []
  },
  {
   "cell_type": "markdown",
   "metadata": {},
   "source": [
    "# If You Want Lean More and in Depth of every commands Check Below"
   ]
  },
  {
   "cell_type": "markdown",
   "metadata": {},
   "source": [
    "# man\n",
    "\n",
    "The first command I want to introduce is a command\n",
    "that will help you understand all the other commands.\n",
    "\n",
    "Command: man <command>\n",
    "\n",
    "Man pages are an essential tool to learn, as a developer. They contain so much information that sometimes it's almost too much."
   ]
  },
  {
   "cell_type": "markdown",
   "metadata": {},
   "source": []
  },
  {
   "cell_type": "markdown",
   "metadata": {},
   "source": [
    "# tldr\n",
    "\n",
    "It's a command you can install, then you run it like this: tldr <command> , which gives you a very quick overview of a command\n",
    "\n",
    "Command: tldr <command>\n",
    "\n",
    "Note: It's same as man Command"
   ]
  },
  {
   "cell_type": "markdown",
   "metadata": {},
   "source": []
  },
  {
   "cell_type": "markdown",
   "metadata": {},
   "source": [
    "# ls\n",
    "\n",
    "Inside a folder you can list all the files that the folder contains using the ls command\n",
    "\n",
    "Command: ls\n",
    "\n",
    "# ls /foldername or path\n",
    "\n",
    "If you add a folder name or path, it will print that folder contents\n",
    "\n",
    "Command: ls /bin\n",
    "\n",
    "# ls -al or ls -la\n",
    "\n",
    "compared to the plain ls,this returns much more information.\n",
    "\n",
    "You have, from left to right:\n",
    "        the file permissions (and if your system supports ACLs, you get an ACL flag as well)\n",
    "        the number of links to that file\n",
    "        the owner of the file\n",
    "        the group of the file\n",
    "        the file size in bytes\n",
    "        the file modified datetime\n",
    "        the file name\n",
    "        \n",
    "This set of data is generated by the l option. The option instead also shows the hidden files. Hidden files are files that start with a dot ( . ).\n",
    "\n",
    "# ls -1\n",
    "\n",
    "List files one per line\n",
    "\n",
    "# ls -a\n",
    "List all files, including hidden files\n",
    "\n",
    "# ls -F\n",
    "\n",
    "List all files, with trailing / added to directory names\n",
    "\n",
    "# ls -F\n",
    "\n",
    "List all files and hidden files  as well, with trailing / added to directory names\n",
    "\n",
    "# ls -lh\n",
    "\n",
    "Long format list with size displayed using human-readable units (KiB, MiB, GiB)\n",
    "\n",
    "# ls -lsr\n",
    "\n",
    "Long format list sorted by size (descending) recursively\n",
    "\n",
    "# ls - lsr\n",
    " \n",
    "Long format list of all files, sorted by modification date (oldest first) \n",
    "\n",
    "# ls -d */\n",
    "\n",
    "Only list directories"
   ]
  },
  {
   "cell_type": "markdown",
   "metadata": {},
   "source": []
  },
  {
   "cell_type": "markdown",
   "metadata": {},
   "source": [
    "# cd\n",
    "\n",
    "Once you have a folder, you can move into it using the cd command. cd means change directory. You invoke it specifying a folder to move into. You can specify a folder name, or an entire path.\n",
    "\n",
    "# cd ..\n",
    "\n",
    "You can use the .. special path to indicate the parent folder. #back to the home folder\n",
    "\n",
    "\n",
    "# cd ~\n",
    "\n",
    "Go to the home directory of the specified user\n",
    "\n",
    "# cd -\n",
    "\n",
    "Go to the previously chosen directory\n",
    "\n",
    "# cd /\n",
    "\n",
    "Go to the root directory"
   ]
  },
  {
   "cell_type": "markdown",
   "metadata": {},
   "source": []
  },
  {
   "cell_type": "markdown",
   "metadata": {},
   "source": [
    "# pwd \n",
    "\n",
    "Whenever you feel lost in the filesystem, call the command to know where you are. It will print the current folder path.\n",
    "\n",
    "# pwd -P\n",
    "\n",
    "Print the current directory, and resolve all symlinks (i.e. show the \"physical\" path)."
   ]
  },
  {
   "cell_type": "markdown",
   "metadata": {},
   "source": []
  },
  {
   "cell_type": "markdown",
   "metadata": {},
   "source": [
    "# mkdir <folder name>\n",
    "\n",
    "You create folders using the mkdir command. if they do not already exist.\n",
    "\n",
    "# mkdir <folder name> <folder name> <folder name>\n",
    "\n",
    "You can create multiple folders with one command.\n",
    "\n",
    "# mkdir -p <folder names>/<folder names>\n",
    "\n",
    "You can also create multiple nested folders by adding the -p option.\n",
    "\n",
    "#  mkdir -m rwxrw-r-- path/to/directory1 path/to/directory2\n",
    "\n",
    "Create directories with specific permissions\n",
    "\n",
    "# mkdir -v <folder name>\n",
    "\n",
    "print a message for each created directory\n",
    "\n",
    "# mkdir -Z <folder name>\n",
    "\n",
    "set SELinux security context of each created directory to the default type."
   ]
  },
  {
   "cell_type": "markdown",
   "metadata": {},
   "source": []
  },
  {
   "cell_type": "markdown",
   "metadata": {},
   "source": [
    "# rmdir <folder name>\n",
    "\n",
    "Just as you can create a folder using mkdir , you can delete a folder using rmdir. The folder you delete must be empty.\n",
    "\n",
    "# rmdir <folder name> <folder name> <folder name>\n",
    "\n",
    "You can also delete multiple folders at once. The folder you delete must be empty.\n",
    "\n",
    "# rm -rf <folder name>\n",
    "\n",
    "To delete folders with files in them, we'll use the more generic rm command which deletes files and folders, using the -rf options. Be careful as this command does not ask for confirmation and it will immediately remove anything you ask it to remove.\n",
    "****There is no bin when removing files from the command line, and recovering lost files can be hard****\n",
    "\n",
    "# rmdir -P path/to/directory1 path/to/directory2\n",
    "\n",
    "Remove specific nested directories recursively.\n",
    "\n",
    "# rmdir -v <folder name>\n",
    "\n",
    "output a diagnostic for every directory processed."
   ]
  },
  {
   "cell_type": "markdown",
   "metadata": {},
   "source": []
  },
  {
   "cell_type": "markdown",
   "metadata": {},
   "source": [
    "# mv <file name or folder name> <folder name>\n",
    "\n",
    "Once you have a file, you can move it around using the mv command. You specify the file current path, and its new path.\n",
    "\n",
    "**** If the last parameter is a folder, the file located at the first parameter path is going to be moved into that folder. In this case, you can specify a list of files and they will all be moved in the folder path identified by the last parameter****\n",
    "\n",
    "# mv <existed file or folder name> <new file or folder name>\n",
    "\n",
    "Rename a file or directory when the target is not an existing directory.\n",
    "\n",
    "# mv -v <file name or folder name> <folder name>\n",
    "\n",
    "explain what is being done."
   ]
  },
  {
   "cell_type": "markdown",
   "metadata": {},
   "source": []
  },
  {
   "cell_type": "markdown",
   "metadata": {},
   "source": [
    "# cp\n",
    "\n",
    "You can copy a file using the cp command."
   ]
  }
 ],
 "metadata": {
  "kernelspec": {
   "display_name": "Python 3",
   "language": "python",
   "name": "python3"
  },
  "language_info": {
   "name": "python",
   "version": "3.12.3"
  }
 },
 "nbformat": 4,
 "nbformat_minor": 2
}
